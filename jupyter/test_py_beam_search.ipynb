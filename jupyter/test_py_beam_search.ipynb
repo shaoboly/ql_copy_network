{
 "cells": [
  {
   "cell_type": "code",
   "execution_count": 1,
   "metadata": {
    "collapsed": true
   },
   "outputs": [],
   "source": [
    "batch_size = 3\n",
    "beam_size = 4\n",
    "summary_len = 11\n",
    "vocab_size = 113\n",
    "time_step = 6\n",
    "alpha = 1.0\n",
    "eos_id = 0\n",
    "min_value = -1e10\n",
    "import numpy as np"
   ]
  },
  {
   "cell_type": "code",
   "execution_count": 2,
   "metadata": {
    "collapsed": true
   },
   "outputs": [],
   "source": [
    "def softmax(X, theta = 1.0, axis = None):\n",
    "    \"\"\"\n",
    "    Compute the softmax of each element along an axis of X.\n",
    "\n",
    "    Parameters\n",
    "    ----------\n",
    "    X: ND-Array. Probably should be floats. \n",
    "    theta (optional): float parameter, used as a multiplier\n",
    "        prior to exponentiation. Default = 1.0\n",
    "    axis (optional): axis to compute values along. Default is the \n",
    "        first non-singleton axis.\n",
    "\n",
    "    Returns an array the same size as X. The result will sum to 1\n",
    "    along the specified axis.\n",
    "    \"\"\"\n",
    "\n",
    "    # make X at least 2d\n",
    "    y = np.atleast_2d(X)\n",
    "\n",
    "    # find axis\n",
    "    if axis is None:\n",
    "        axis = next(j[0] for j in enumerate(y.shape) if j[1] > 1)\n",
    "\n",
    "    # multiply y against the theta parameter, \n",
    "    y = y * float(theta)\n",
    "\n",
    "    # subtract the max for numerical stability\n",
    "    y = y - np.expand_dims(np.max(y, axis = axis), axis)\n",
    "\n",
    "    # exponentiate y\n",
    "    y = np.exp(y)\n",
    "\n",
    "    # take the sum along the specified axis\n",
    "    ax_sum = np.expand_dims(np.sum(y, axis = axis), axis)\n",
    "\n",
    "    # finally: divide elementwise\n",
    "    p = y / ax_sum\n",
    "\n",
    "    # flatten if X was 1D\n",
    "    if len(X.shape) == 1: p = p.flatten()\n",
    "\n",
    "    return p"
   ]
  },
  {
   "cell_type": "code",
   "execution_count": 3,
   "metadata": {},
   "outputs": [
    {
     "data": {
      "text/plain": [
       "array([[8, 5, 0, 8],\n",
       "       [0, 5, 0, 7],\n",
       "       [7, 4, 5, 3]])"
      ]
     },
     "execution_count": 3,
     "metadata": {},
     "output_type": "execute_result"
    }
   ],
   "source": [
    "# previous log probs\n",
    "log_probs = np.random.randint(0, 10, size=(batch_size, beam_size))\n",
    "log_probs.astype(np.float32)\n",
    "log_probs"
   ]
  },
  {
   "cell_type": "code",
   "execution_count": 4,
   "metadata": {},
   "outputs": [
    {
     "data": {
      "text/plain": [
       "array([[[ 94,  47,  68,  98,  68,  61,  85,  49,  92, 100,  18],\n",
       "        [ 30,  68,  27, 102,   4,  82,  50,  72,  54,  69,  63],\n",
       "        [ 79,  92,  23,  65,  38,  98,  40,  28,   7,  59,  32],\n",
       "        [102,   4,  54,   7,  91,  35,  98,  85,  66, 110,   7]],\n",
       "\n",
       "       [[ 30,  85, 100, 101, 100,   2,  61,  15,  63,  38,  61],\n",
       "        [ 87,  66,  21,  70, 101,  67, 109,  32,  21,  11,  61],\n",
       "        [ 70,  39,  51,  11,   9,  65,  70,  51,  48,  47,  23],\n",
       "        [ 20,  30, 100,  74,  54,  37,  99, 106,  92,  66,  23]],\n",
       "\n",
       "       [[ 81,  22,  71,  35, 112,  99,  65,  11,  86,  25, 109],\n",
       "        [ 14, 103,  43,  99,  46,  52,  39,  80,  36,  84,  27],\n",
       "        [ 38,   8,  95,   0,  18,  72,  72,  45,  36,  10,  91],\n",
       "        [ 38,  46,  55,  94,  37,  11,  15,  42,  37,   4, 112]]])"
      ]
     },
     "execution_count": 4,
     "metadata": {},
     "output_type": "execute_result"
    }
   ],
   "source": [
    "# previous sequences\n",
    "seqs = np.random.randint(0, vocab_size, size=(batch_size, beam_size, summary_len))\n",
    "seqs"
   ]
  },
  {
   "cell_type": "code",
   "execution_count": 5,
   "metadata": {},
   "outputs": [
    {
     "data": {
      "text/plain": [
       "array([[0.00866284, 0.09126753, 0.76027364, ..., 0.04482722, 0.0384534 ,\n",
       "        0.01495241],\n",
       "       [0.13010064, 0.09403806, 0.01349366, ..., 0.06896785, 0.03216171,\n",
       "        0.04853784],\n",
       "       [0.02818063, 0.13119897, 0.00556592, ..., 0.09018056, 0.09089643,\n",
       "        0.06391199],\n",
       "       ...,\n",
       "       [0.05048084, 0.02752168, 0.0215683 , ..., 0.18469691, 0.16138069,\n",
       "        0.04793495],\n",
       "       [0.3051425 , 0.10034695, 0.03642663, ..., 0.02293839, 0.021237  ,\n",
       "        0.02232829],\n",
       "       [0.01683126, 0.20786609, 0.0195119 , ..., 0.06064144, 0.09925008,\n",
       "        0.26470203]])"
      ]
     },
     "execution_count": 5,
     "metadata": {},
     "output_type": "execute_result"
    }
   ],
   "source": [
    "# define current log probs\n",
    "step_log_probs = np.random.randn(batch_size * beam_size, vocab_size)\n",
    "step_log_probs = softmax(step_log_probs)\n",
    "step_log_probs"
   ]
  },
  {
   "cell_type": "code",
   "execution_count": 6,
   "metadata": {
    "collapsed": true
   },
   "outputs": [],
   "source": [
    "vo_size = step_log_probs.shape[-1]\n",
    "step_log_probs = np.reshape(step_log_probs, [batch_size, beam_size, vo_size])\n",
    "curr_log_probs = np.expand_dims(log_probs, 2) + step_log_probs  # add current vocab beam with previous one word\n",
    "\n",
    "# length penalty\n",
    "length_penalty = np.power((5.0 + (time_step + 1)) / 6.0, alpha)\n",
    "curr_scores = curr_log_probs / length_penalty"
   ]
  },
  {
   "cell_type": "code",
   "execution_count": 7,
   "metadata": {},
   "outputs": [
    {
     "data": {
      "text/plain": [
       "(3, 4, 113)"
      ]
     },
     "execution_count": 7,
     "metadata": {},
     "output_type": "execute_result"
    }
   ],
   "source": [
    "curr_scores.shape"
   ]
  },
  {
   "cell_type": "code",
   "execution_count": 8,
   "metadata": {},
   "outputs": [
    {
     "data": {
      "text/plain": [
       "(3, 452)"
      ]
     },
     "execution_count": 8,
     "metadata": {},
     "output_type": "execute_result"
    }
   ],
   "source": [
    "# Select top-k candidates\n",
    "curr_scores = np.reshape(curr_scores, [-1, beam_size * vo_size])# [b, beam * v]\n",
    "curr_scores.shape"
   ]
  },
  {
   "cell_type": "code",
   "execution_count": 9,
   "metadata": {
    "collapsed": true
   },
   "outputs": [],
   "source": [
    "def get_top_k(scores, k):\n",
    "    indices = np.argsort(scores, -1)[:, :(-k-1):-1]\n",
    "    ret_scores = np.stack([np.take(scores[i], indices[i], axis=-1) for i in range(scores.shape[0])], axis=0)\n",
    "    return ret_scores, indices"
   ]
  },
  {
   "cell_type": "code",
   "execution_count": 10,
   "metadata": {
    "collapsed": true
   },
   "outputs": [],
   "source": [
    "# get indices like: [3, vocab + 7, vocab * 3 + 180, ...], vocab_idx + beam_offset\n",
    "top_scores, top_indices = get_top_k(curr_scores, 2 * beam_size) # [b, 2 * beam]"
   ]
  },
  {
   "cell_type": "code",
   "execution_count": 11,
   "metadata": {},
   "outputs": [
    {
     "data": {
      "text/plain": [
       "array([[  2,  53, 423,  72, 429, 447, 397, 347],\n",
       "       [403, 351, 365, 345, 390, 394, 424, 402],\n",
       "       [ 83,  79,  28,  29,  45,  60,   4,  56]], dtype=int64)"
      ]
     },
     "execution_count": 11,
     "metadata": {},
     "output_type": "execute_result"
    }
   ],
   "source": [
    "# indices and scores are correct, top-k indices\n",
    "top_indices"
   ]
  },
  {
   "cell_type": "code",
   "execution_count": 12,
   "metadata": {},
   "outputs": [
    {
     "data": {
      "text/plain": [
       "array([[4.38013682, 4.3093334 , 4.20907989, 4.1969112 , 4.18637286,\n",
       "        4.16149883, 4.15171153, 4.14103024],\n",
       "       [3.75622229, 3.67183793, 3.66811912, 3.6610425 , 3.66010466,\n",
       "        3.65048016, 3.63808207, 3.62871759],\n",
       "       [3.7836841 , 3.64934348, 3.64421052, 3.63404299, 3.63087913,\n",
       "        3.62407101, 3.62306727, 3.61905244]])"
      ]
     },
     "execution_count": 12,
     "metadata": {},
     "output_type": "execute_result"
    }
   ],
   "source": [
    "top_scores"
   ]
  },
  {
   "cell_type": "code",
   "execution_count": 13,
   "metadata": {
    "collapsed": true
   },
   "outputs": [],
   "source": [
    "beam_indices = top_indices // vo_size  # [b, 2 * beam]\n",
    "symbol_indices = top_indices % vo_size  # [b, 2 * beam]"
   ]
  },
  {
   "cell_type": "code",
   "execution_count": 14,
   "metadata": {},
   "outputs": [
    {
     "data": {
      "text/plain": [
       "array([[0, 0, 3, 0, 3, 3, 3, 3],\n",
       "       [3, 3, 3, 3, 3, 3, 3, 3],\n",
       "       [0, 0, 0, 0, 0, 0, 0, 0]], dtype=int64)"
      ]
     },
     "execution_count": 14,
     "metadata": {},
     "output_type": "execute_result"
    }
   ],
   "source": [
    "beam_indices"
   ]
  },
  {
   "cell_type": "code",
   "execution_count": 15,
   "metadata": {},
   "outputs": [
    {
     "data": {
      "text/plain": [
       "array([[  2,  53,  84,  72,  90, 108,  58,   8],\n",
       "       [ 64,  12,  26,   6,  51,  55,  85,  63],\n",
       "       [ 83,  79,  28,  29,  45,  60,   4,  56]], dtype=int64)"
      ]
     },
     "execution_count": 15,
     "metadata": {},
     "output_type": "execute_result"
    }
   ],
   "source": [
    "symbol_indices"
   ]
  },
  {
   "cell_type": "code",
   "execution_count": 16,
   "metadata": {},
   "outputs": [
    {
     "data": {
      "text/plain": [
       "(3, 8)"
      ]
     },
     "execution_count": 16,
     "metadata": {},
     "output_type": "execute_result"
    }
   ],
   "source": [
    "symbol_indices.shape"
   ]
  },
  {
   "cell_type": "code",
   "execution_count": 17,
   "metadata": {
    "collapsed": true
   },
   "outputs": [],
   "source": [
    "def gather_2d(params, indices, name=None):\n",
    "    return np.stack([np.take(params[i], indices[i], axis=0) for i in range(params.shape[0])], axis=0)"
   ]
  },
  {
   "cell_type": "code",
   "execution_count": 18,
   "metadata": {},
   "outputs": [
    {
     "data": {
      "text/plain": [
       "array([[[ 94,  47,  68,  98,  68,  61,  85,  49,  92, 100,  18],\n",
       "        [ 94,  47,  68,  98,  68,  61,  85,  49,  92, 100,  18],\n",
       "        [102,   4,  54,   7,  91,  35,  98,  85,  66, 110,   7],\n",
       "        [ 94,  47,  68,  98,  68,  61,  85,  49,  92, 100,  18],\n",
       "        [102,   4,  54,   7,  91,  35,  98,  85,  66, 110,   7],\n",
       "        [102,   4,  54,   7,  91,  35,  98,  85,  66, 110,   7],\n",
       "        [102,   4,  54,   7,  91,  35,  98,  85,  66, 110,   7],\n",
       "        [102,   4,  54,   7,  91,  35,  98,  85,  66, 110,   7]],\n",
       "\n",
       "       [[ 20,  30, 100,  74,  54,  37,  99, 106,  92,  66,  23],\n",
       "        [ 20,  30, 100,  74,  54,  37,  99, 106,  92,  66,  23],\n",
       "        [ 20,  30, 100,  74,  54,  37,  99, 106,  92,  66,  23],\n",
       "        [ 20,  30, 100,  74,  54,  37,  99, 106,  92,  66,  23],\n",
       "        [ 20,  30, 100,  74,  54,  37,  99, 106,  92,  66,  23],\n",
       "        [ 20,  30, 100,  74,  54,  37,  99, 106,  92,  66,  23],\n",
       "        [ 20,  30, 100,  74,  54,  37,  99, 106,  92,  66,  23],\n",
       "        [ 20,  30, 100,  74,  54,  37,  99, 106,  92,  66,  23]],\n",
       "\n",
       "       [[ 81,  22,  71,  35, 112,  99,  65,  11,  86,  25, 109],\n",
       "        [ 81,  22,  71,  35, 112,  99,  65,  11,  86,  25, 109],\n",
       "        [ 81,  22,  71,  35, 112,  99,  65,  11,  86,  25, 109],\n",
       "        [ 81,  22,  71,  35, 112,  99,  65,  11,  86,  25, 109],\n",
       "        [ 81,  22,  71,  35, 112,  99,  65,  11,  86,  25, 109],\n",
       "        [ 81,  22,  71,  35, 112,  99,  65,  11,  86,  25, 109],\n",
       "        [ 81,  22,  71,  35, 112,  99,  65,  11,  86,  25, 109],\n",
       "        [ 81,  22,  71,  35, 112,  99,  65,  11,  86,  25, 109]]])"
      ]
     },
     "execution_count": 18,
     "metadata": {},
     "output_type": "execute_result"
    }
   ],
   "source": [
    "# Expand sequences\n",
    "# Get previous decoder sequence given beam indices\n",
    "candidate_seqs = gather_2d(seqs, beam_indices)  # [b, 2 * beam, q']\n",
    "candidate_seqs"
   ]
  },
  {
   "cell_type": "code",
   "execution_count": 19,
   "metadata": {
    "collapsed": true
   },
   "outputs": [],
   "source": [
    "# put current decoded word id to given sequences\n",
    "candidate_seqs[:, :, time_step] = symbol_indices"
   ]
  },
  {
   "cell_type": "code",
   "execution_count": 20,
   "metadata": {},
   "outputs": [
    {
     "data": {
      "text/plain": [
       "array([[[ 94,  47,  68,  98,  68,  61,   2,  49,  92, 100,  18],\n",
       "        [ 94,  47,  68,  98,  68,  61,  53,  49,  92, 100,  18],\n",
       "        [102,   4,  54,   7,  91,  35,  84,  85,  66, 110,   7],\n",
       "        [ 94,  47,  68,  98,  68,  61,  72,  49,  92, 100,  18],\n",
       "        [102,   4,  54,   7,  91,  35,  90,  85,  66, 110,   7],\n",
       "        [102,   4,  54,   7,  91,  35, 108,  85,  66, 110,   7],\n",
       "        [102,   4,  54,   7,  91,  35,  58,  85,  66, 110,   7],\n",
       "        [102,   4,  54,   7,  91,  35,   8,  85,  66, 110,   7]],\n",
       "\n",
       "       [[ 20,  30, 100,  74,  54,  37,  64, 106,  92,  66,  23],\n",
       "        [ 20,  30, 100,  74,  54,  37,  12, 106,  92,  66,  23],\n",
       "        [ 20,  30, 100,  74,  54,  37,  26, 106,  92,  66,  23],\n",
       "        [ 20,  30, 100,  74,  54,  37,   6, 106,  92,  66,  23],\n",
       "        [ 20,  30, 100,  74,  54,  37,  51, 106,  92,  66,  23],\n",
       "        [ 20,  30, 100,  74,  54,  37,  55, 106,  92,  66,  23],\n",
       "        [ 20,  30, 100,  74,  54,  37,  85, 106,  92,  66,  23],\n",
       "        [ 20,  30, 100,  74,  54,  37,  63, 106,  92,  66,  23]],\n",
       "\n",
       "       [[ 81,  22,  71,  35, 112,  99,  83,  11,  86,  25, 109],\n",
       "        [ 81,  22,  71,  35, 112,  99,  79,  11,  86,  25, 109],\n",
       "        [ 81,  22,  71,  35, 112,  99,  28,  11,  86,  25, 109],\n",
       "        [ 81,  22,  71,  35, 112,  99,  29,  11,  86,  25, 109],\n",
       "        [ 81,  22,  71,  35, 112,  99,  45,  11,  86,  25, 109],\n",
       "        [ 81,  22,  71,  35, 112,  99,  60,  11,  86,  25, 109],\n",
       "        [ 81,  22,  71,  35, 112,  99,   4,  11,  86,  25, 109],\n",
       "        [ 81,  22,  71,  35, 112,  99,  56,  11,  86,  25, 109]]])"
      ]
     },
     "execution_count": 20,
     "metadata": {},
     "output_type": "execute_result"
    }
   ],
   "source": [
    "candidate_seqs"
   ]
  },
  {
   "cell_type": "code",
   "execution_count": 194,
   "metadata": {
    "collapsed": true
   },
   "outputs": [],
   "source": [
    "log_probs = np.array([[0.] + [min_value] * (beam_size - 1)], dtype=np.float32)  # [1, beam]\n",
    "log_probs = np.tile(log_probs, [batch_size, 1])  # [b, beam]\n",
    "alive_scores = np.zeros_like(log_probs)  # [b, beam]\n",
    "\n",
    "fin_seqs = np.zeros([batch_size, beam_size, summary_len], np.int32)  # [b, beam, 1]\n",
    "fin_scores = np.full([batch_size, beam_size], min_value)  # [b, beam]\n",
    "fin_flags = np.zeros([batch_size, beam_size], np.bool)  # [b, beam]"
   ]
  },
  {
   "cell_type": "code",
   "execution_count": 155,
   "metadata": {},
   "outputs": [
    {
     "data": {
      "text/plain": [
       "array([[-1.e+10, -1.e+10, -1.e+10, -1.e+10],\n",
       "       [-1.e+10, -1.e+10, -1.e+10, -1.e+10],\n",
       "       [-1.e+10, -1.e+10, -1.e+10, -1.e+10]])"
      ]
     },
     "execution_count": 155,
     "metadata": {},
     "output_type": "execute_result"
    }
   ],
   "source": [
    "fin_scores"
   ]
  },
  {
   "cell_type": "code",
   "execution_count": 164,
   "metadata": {
    "collapsed": true
   },
   "outputs": [],
   "source": [
    "# Expand sequences\n",
    "# Suppress finished sequences, if current decode word is eos\n",
    "flags = np.equal(symbol_indices, eos_id)  # [b, beam]\n",
    "# with our 2 * beam results, we set those eos score to -inf\n",
    "alive_scores = top_scores + flags * min_value  # [b, 2 * beam]\n",
    "# and keep top beam ones\n",
    "alive_scores, alive_indices = get_top_k(alive_scores, beam_size)  # [b, beam]\n",
    "# get their correspond vocab ids\n",
    "alive_symbols = gather_2d(symbol_indices, alive_indices)  # [b, beam]\n",
    "# and their correspond beam indices\n",
    "alive_indices = gather_2d(beam_indices, alive_indices)  # [b, beam]\n",
    "# get their correspond previous sequences\n",
    "alive_seqs = gather_2d(seqs, alive_indices)  # [b, beam, q']\n",
    "# concat, ta_da -_-\n",
    "alive_seqs[:, :, time_step] = alive_symbols\n",
    "alive_log_probs = alive_scores * length_penalty"
   ]
  },
  {
   "cell_type": "code",
   "execution_count": 165,
   "metadata": {},
   "outputs": [
    {
     "data": {
      "text/plain": [
       "array([[[ 10,  44,  24,  26,  79, 101,  24,  29, 110,   5, 100],\n",
       "        [ 10,  44,  24,  26,  79, 101, 107,  29, 110,   5, 100],\n",
       "        [ 10,  44,  24,  26,  79, 101,  88,  29, 110,   5, 100],\n",
       "        [ 10,  44,  24,  26,  79, 101, 101,  29, 110,   5, 100]],\n",
       "\n",
       "       [[ 86,  48,  50,   3,   8, 108,  33,  65,  45,  27,  85],\n",
       "        [ 86,  48,  50,   3,   8, 108,  43,  65,  45,  27,  85],\n",
       "        [ 86,  48,  50,   3,   8, 108, 110,  65,  45,  27,  85],\n",
       "        [ 86,  48,  50,   3,   8, 108,  93,  65,  45,  27,  85]],\n",
       "\n",
       "       [[ 29,  96,  37,  73,  50,  81,  39,  83,  84,  95, 109],\n",
       "        [ 29,  96,  37,  73,  50,  81,  51,  83,  84,  95, 109],\n",
       "        [ 29,  96,  37,  73,  50,  81, 100,  83,  84,  95, 109],\n",
       "        [ 29,  96,  37,  73,  50,  81,  91,  83,  84,  95, 109]]])"
      ]
     },
     "execution_count": 165,
     "metadata": {},
     "output_type": "execute_result"
    }
   ],
   "source": [
    "alive_seqs"
   ]
  },
  {
   "cell_type": "code",
   "execution_count": 193,
   "metadata": {
    "collapsed": true
   },
   "outputs": [],
   "source": [
    "# Select finished sequences\n",
    "step_fin_scores = top_scores + (1.0 - flags) * min_value  # [b, 2 * beam]\n",
    "fin_flags = np.concatenate([fin_flags, flags], axis=1)  # [batch, 3 * beam]\n",
    "fin_scores = np.concatenate([fin_scores, step_fin_scores], axis=1)\n",
    "fin_scores, fin_indices = get_top_k(fin_scores, beam_size)  # [b, beam]\n",
    "fin_flags = gather_2d(fin_flags, fin_indices)\n",
    "\n",
    "# we always keep beam fin_seqs along with their scores and use current candidate to update\n",
    "fin_seqs = np.concatenate([fin_seqs, candidate_seqs], axis=1)  # [b, 3 * beam, q' + 1]\n",
    "fin_seqs = gather_2d(fin_seqs, fin_indices)  # [b, beam?, q' + 1]"
   ]
  },
  {
   "cell_type": "code",
   "execution_count": 169,
   "metadata": {
    "collapsed": true
   },
   "outputs": [],
   "source": [
    "fin_flags = np.concatenate([fin_flags, flags], axis=1)  # [batch, 3 * beam]"
   ]
  },
  {
   "cell_type": "code",
   "execution_count": 171,
   "metadata": {},
   "outputs": [
    {
     "data": {
      "text/plain": [
       "(3, 12)"
      ]
     },
     "execution_count": 171,
     "metadata": {},
     "output_type": "execute_result"
    }
   ],
   "source": [
    "fin_flags.shape"
   ]
  },
  {
   "cell_type": "code",
   "execution_count": 172,
   "metadata": {},
   "outputs": [
    {
     "data": {
      "text/plain": [
       "array([[-1.00000000e+10, -1.00000000e+10, -1.00000000e+10,\n",
       "        -1.00000000e+10, -1.00000000e+10, -1.00000000e+10,\n",
       "        -1.00000000e+10, -1.00000000e+10, -1.00000000e+10,\n",
       "        -1.00000000e+10, -1.00000000e+10, -1.00000000e+10],\n",
       "       [-1.00000000e+10, -1.00000000e+10, -1.00000000e+10,\n",
       "        -1.00000000e+10, -1.00000000e+10, -1.00000000e+10,\n",
       "        -1.00000000e+10, -1.00000000e+10, -1.00000000e+10,\n",
       "        -1.00000000e+10, -1.00000000e+10, -1.00000000e+10],\n",
       "       [-1.00000000e+10, -1.00000000e+10, -1.00000000e+10,\n",
       "        -1.00000000e+10, -1.00000000e+10, -1.00000000e+10,\n",
       "        -1.00000000e+10, -1.00000000e+10, -1.00000000e+10,\n",
       "        -1.00000000e+10, -1.00000000e+10,  4.09773027e+00]])"
      ]
     },
     "execution_count": 172,
     "metadata": {},
     "output_type": "execute_result"
    }
   ],
   "source": [
    "fin_scores = np.concatenate([fin_scores, step_fin_scores], axis=1)\n",
    "fin_scores"
   ]
  },
  {
   "cell_type": "code",
   "execution_count": 173,
   "metadata": {
    "collapsed": true
   },
   "outputs": [],
   "source": [
    "fin_scores, fin_indices = get_top_k(fin_scores, beam_size)  # [b, beam]"
   ]
  },
  {
   "cell_type": "code",
   "execution_count": 175,
   "metadata": {},
   "outputs": [
    {
     "data": {
      "text/plain": [
       "array([[ 4,  5,  6,  7],\n",
       "       [ 4,  5,  6,  7],\n",
       "       [11,  4,  5,  6]], dtype=int64)"
      ]
     },
     "execution_count": 175,
     "metadata": {},
     "output_type": "execute_result"
    }
   ],
   "source": [
    "fin_indices"
   ]
  },
  {
   "cell_type": "code",
   "execution_count": 176,
   "metadata": {
    "collapsed": true
   },
   "outputs": [],
   "source": [
    "fin_flags = gather_2d(fin_flags, fin_indices)"
   ]
  },
  {
   "cell_type": "code",
   "execution_count": 177,
   "metadata": {},
   "outputs": [
    {
     "data": {
      "text/plain": [
       "array([[False, False, False, False],\n",
       "       [False, False, False, False],\n",
       "       [ True, False, False, False]])"
      ]
     },
     "execution_count": 177,
     "metadata": {},
     "output_type": "execute_result"
    }
   ],
   "source": [
    "fin_flags"
   ]
  },
  {
   "cell_type": "code",
   "execution_count": 195,
   "metadata": {
    "collapsed": true
   },
   "outputs": [],
   "source": [
    "fin_seqs = np.concatenate([fin_seqs, candidate_seqs], axis=1)"
   ]
  },
  {
   "cell_type": "code",
   "execution_count": 192,
   "metadata": {},
   "outputs": [
    {
     "ename": "IndexError",
     "evalue": "index 11 is out of bounds for axis 0 with size 8",
     "output_type": "error",
     "traceback": [
      "\u001b[1;31m---------------------------------------------------------------------------\u001b[0m",
      "\u001b[1;31mIndexError\u001b[0m                                Traceback (most recent call last)",
      "\u001b[1;32m<ipython-input-192-1c352b37de23>\u001b[0m in \u001b[0;36m<module>\u001b[1;34m()\u001b[0m\n\u001b[1;32m----> 1\u001b[1;33m \u001b[0mcandidate_seqs\u001b[0m\u001b[1;33m[\u001b[0m\u001b[1;33m-\u001b[0m\u001b[1;36m1\u001b[0m\u001b[1;33m]\u001b[0m\u001b[1;33m[\u001b[0m\u001b[1;36m11\u001b[0m\u001b[1;33m]\u001b[0m\u001b[1;33m[\u001b[0m\u001b[1;33m-\u001b[0m\u001b[1;36m1\u001b[0m\u001b[1;33m]\u001b[0m \u001b[1;33m=\u001b[0m \u001b[1;36m0\u001b[0m\u001b[1;33m\u001b[0m\u001b[0m\n\u001b[0m",
      "\u001b[1;31mIndexError\u001b[0m: index 11 is out of bounds for axis 0 with size 8"
     ]
    }
   ],
   "source": [
    "candidate_seqs[-1][-1][-1] = 0"
   ]
  },
  {
   "cell_type": "code",
   "execution_count": 196,
   "metadata": {},
   "outputs": [
    {
     "data": {
      "text/plain": [
       "array([[  0,   0,   0,   0,   0,   0,   0,   0,   0,   0,   0],\n",
       "       [  0,   0,   0,   0,   0,   0,   0,   0,   0,   0,   0],\n",
       "       [  0,   0,   0,   0,   0,   0,   0,   0,   0,   0,   0],\n",
       "       [  0,   0,   0,   0,   0,   0,   0,   0,   0,   0,   0],\n",
       "       [ 29,  96,  37,  73,  50,  81,  39,  83,  84,  95, 109],\n",
       "       [ 29,  96,  37,  73,  50,  81,  51,  83,  84,  95, 109],\n",
       "       [ 29,  96,  37,  73,  50,  81, 100,  83,  84,  95, 109],\n",
       "       [ 29,  96,  37,  73,  50,  81,  91,  83,  84,  95, 109],\n",
       "       [ 29,  96,  37,  73,  50,  81,  30,  83,  84,  95, 109],\n",
       "       [ 29,  96,  37,  73,  50,  81,  94,  83,  84,  95, 109],\n",
       "       [ 29,  96,  37,  73,  50,  81, 105,  83,  84,  95, 109],\n",
       "       [ 29,  96,  37,  73,  50,  81,  25,  83,  84,  95,   0]])"
      ]
     },
     "execution_count": 196,
     "metadata": {},
     "output_type": "execute_result"
    }
   ],
   "source": [
    "fin_seqs[-1]"
   ]
  },
  {
   "cell_type": "code",
   "execution_count": 197,
   "metadata": {
    "collapsed": true
   },
   "outputs": [],
   "source": [
    "fin_seqs = gather_2d(fin_seqs, fin_indices)  # [b, beam?, q' + 1]"
   ]
  },
  {
   "cell_type": "code",
   "execution_count": 198,
   "metadata": {},
   "outputs": [
    {
     "data": {
      "text/plain": [
       "array([[[ 10,  44,  24,  26,  79, 101,  24,  29, 110,   5, 100],\n",
       "        [  0,   0,   0,   0,   0,   0,   0,   0,   0,   0,   0],\n",
       "        [ 10,  44,  24,  26,  79, 101, 107,  29, 110,   5, 100],\n",
       "        [  0,   0,   0,   0,   0,   0,   0,   0,   0,   0,   0]],\n",
       "\n",
       "       [[ 86,  48,  50,   3,   8, 108,  33,  65,  45,  27,  85],\n",
       "        [  0,   0,   0,   0,   0,   0,   0,   0,   0,   0,   0],\n",
       "        [ 86,  48,  50,   3,   8, 108,  43,  65,  45,  27,  85],\n",
       "        [  0,   0,   0,   0,   0,   0,   0,   0,   0,   0,   0]],\n",
       "\n",
       "       [[ 29,  96,  37,  73,  50,  81,  25,  83,  84,  95,   0],\n",
       "        [  0,   0,   0,   0,   0,   0,   0,   0,   0,   0,   0],\n",
       "        [ 29,  96,  37,  73,  50,  81,  39,  83,  84,  95, 109],\n",
       "        [  0,   0,   0,   0,   0,   0,   0,   0,   0,   0,   0]]])"
      ]
     },
     "execution_count": 198,
     "metadata": {},
     "output_type": "execute_result"
    }
   ],
   "source": [
    "fin_seqs"
   ]
  },
  {
   "cell_type": "code",
   "execution_count": 206,
   "metadata": {},
   "outputs": [
    {
     "data": {
      "text/plain": [
       "True"
      ]
     },
     "execution_count": 206,
     "metadata": {},
     "output_type": "execute_result"
    }
   ],
   "source": [
    "np.any(fin_flags)"
   ]
  },
  {
   "cell_type": "code",
   "execution_count": 205,
   "metadata": {
    "collapsed": true
   },
   "outputs": [],
   "source": [
    "fin_flags[-1][-1] = True"
   ]
  },
  {
   "cell_type": "code",
   "execution_count": 25,
   "metadata": {},
   "outputs": [
    {
     "data": {
      "text/plain": [
       "(3, 11)"
      ]
     },
     "execution_count": 25,
     "metadata": {},
     "output_type": "execute_result"
    }
   ],
   "source": [
    "candidate_seqs[:, 0, :].shape"
   ]
  },
  {
   "cell_type": "code",
   "execution_count": null,
   "metadata": {
    "collapsed": true
   },
   "outputs": [],
   "source": []
  }
 ],
 "metadata": {
  "kernelspec": {
   "display_name": "Python 3",
   "language": "python",
   "name": "python3"
  },
  "language_info": {
   "codemirror_mode": {
    "name": "ipython",
    "version": 3
   },
   "file_extension": ".py",
   "mimetype": "text/x-python",
   "name": "python",
   "nbconvert_exporter": "python",
   "pygments_lexer": "ipython3",
   "version": "3.6.4"
  }
 },
 "nbformat": 4,
 "nbformat_minor": 1
}
