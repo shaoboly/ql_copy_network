{
 "cells": [
  {
   "cell_type": "code",
   "execution_count": 1,
   "metadata": {},
   "outputs": [
    {
     "name": "stderr",
     "output_type": "stream",
     "text": [
      "C:\\Anaconda3\\lib\\site-packages\\h5py\\__init__.py:34: FutureWarning: Conversion of the second argument of issubdtype from `float` to `np.floating` is deprecated. In future, it will be treated as `np.float64 == np.dtype(float).type`.\n",
      "  from ._conv import register_converters as _register_converters\n"
     ]
    }
   ],
   "source": [
    "import tensorflow as tf\n",
    "import pyrouge\n",
    "import os\n",
    "import logging\n",
    "import sys"
   ]
  },
  {
   "cell_type": "code",
   "execution_count": 2,
   "metadata": {
    "collapsed": true
   },
   "outputs": [],
   "source": [
    "data_path = 'summarize_bert_baseline-cnn_dm-11-21-1/'\n",
    "ref_dir = os.path.join('../data/', data_path, 'results/ref')\n",
    "decode_dir = os.path.join('../data/', data_path, 'results/pred')"
   ]
  },
  {
   "cell_type": "code",
   "execution_count": 3,
   "metadata": {
    "collapsed": true
   },
   "outputs": [],
   "source": [
    "def rouge_eval(ref_dir, dec_dir):\n",
    "    \"\"\"Evaluate the files in ref_dir and dec_dir with pyrouge, returning results_dict\"\"\"\n",
    "    r = pyrouge.Rouge155()\n",
    "    r.model_filename_pattern = '#ID#_reference.txt'\n",
    "    r.system_filename_pattern = '(\\d+)_decoded.txt'\n",
    "    r.model_dir = ref_dir\n",
    "    r.system_dir = dec_dir\n",
    "    logging.getLogger('global').setLevel(logging.WARNING)  # silence pyrouge logging\n",
    "    rouge_results = r.convert_and_evaluate()\n",
    "    return r.output_to_dict(rouge_results)\n",
    "\n",
    "\n",
    "def rouge_log(results_dict, dir_to_write):\n",
    "    \"\"\"Log ROUGE results to screen and write to file.\n",
    "\n",
    "    Args:\n",
    "      results_dict: the dictionary returned by pyrouge\n",
    "      dir_to_write: the directory where we will write the results to\"\"\"\n",
    "    log_str = \"\"\n",
    "    for x in [\"1\", \"2\", \"l\"]:\n",
    "        log_str += \"\\nROUGE-%s:\\n\" % x\n",
    "        for y in [\"f_score\", \"recall\", \"precision\"]:\n",
    "            key = \"rouge_%s_%s\" % (x, y)\n",
    "            key_cb = key + \"_cb\"\n",
    "            key_ce = key + \"_ce\"\n",
    "            val = results_dict[key]\n",
    "            val_cb = results_dict[key_cb]\n",
    "            val_ce = results_dict[key_ce]\n",
    "            log_str += \"%s: %.4f with confidence interval (%.4f, %.4f)\\n\" % (key, val, val_cb, val_ce)\n",
    "    print(log_str)  # log to screen\n",
    "    results_file = os.path.join(dir_to_write, \"ROUGE_results.txt\")\n",
    "    print(\"Writing final ROUGE results to %s...\", results_file)\n",
    "    with open(results_file, \"w\", encoding='utf-8') as f:\n",
    "        f.write(log_str)"
   ]
  },
  {
   "cell_type": "code",
   "execution_count": 6,
   "metadata": {},
   "outputs": [
    {
     "name": "stdout",
     "output_type": "stream",
     "text": [
      "\n",
      "ROUGE-1:\n",
      "rouge_1_f_score: 0.3113 with confidence interval (0.3065, 0.3158)\n",
      "rouge_1_recall: 0.2722 with confidence interval (0.2677, 0.2765)\n",
      "rouge_1_precision: 0.3965 with confidence interval (0.3900, 0.4030)\n",
      "\n",
      "ROUGE-2:\n",
      "rouge_2_f_score: 0.1376 with confidence interval (0.1335, 0.1415)\n",
      "rouge_2_recall: 0.1191 with confidence interval (0.1155, 0.1228)\n",
      "rouge_2_precision: 0.1784 with confidence interval (0.1731, 0.1839)\n",
      "\n",
      "ROUGE-l:\n",
      "rouge_l_f_score: 0.2896 with confidence interval (0.2851, 0.2940)\n",
      "rouge_l_recall: 0.2530 with confidence interval (0.2488, 0.2573)\n",
      "rouge_l_precision: 0.3692 with confidence interval (0.3631, 0.3754)\n",
      "\n",
      "Writing final ROUGE results to %s... ../data/summarize_bert_baseline-cnn_dm-11-21-1/results/pred\\ROUGE_results.txt\n"
     ]
    }
   ],
   "source": [
    "results_dict = rouge_eval(ref_dir, decode_dir)\n",
    "rouge_log(results_dict, decode_dir)"
   ]
  },
  {
   "cell_type": "code",
   "execution_count": null,
   "metadata": {
    "collapsed": true
   },
   "outputs": [],
   "source": []
  }
 ],
 "metadata": {
  "kernelspec": {
   "display_name": "Python 3",
   "language": "python",
   "name": "python3"
  },
  "language_info": {
   "codemirror_mode": {
    "name": "ipython",
    "version": 3
   },
   "file_extension": ".py",
   "mimetype": "text/x-python",
   "name": "python",
   "nbconvert_exporter": "python",
   "pygments_lexer": "ipython3",
   "version": "3.6.4"
  }
 },
 "nbformat": 4,
 "nbformat_minor": 2
}
